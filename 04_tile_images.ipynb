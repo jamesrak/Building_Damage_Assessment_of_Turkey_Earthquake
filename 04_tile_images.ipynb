{
 "cells": [
  {
   "cell_type": "code",
   "execution_count": 25,
   "id": "2cd75bcc-3d29-47ef-908c-455ee3019ec4",
   "metadata": {},
   "outputs": [],
   "source": [
    "import rasterio\n",
    "from rasterio.windows import Window\n",
    "import numpy as np\n",
    "from PIL import Image\n",
    "import os"
   ]
  },
  {
   "cell_type": "code",
   "execution_count": 26,
   "id": "2bd0f07f-bf18-4853-9083-34359ea27d16",
   "metadata": {},
   "outputs": [],
   "source": [
    "def list_tiff_files(directory_path):\n",
    "    tiff_files = [file for file in os.listdir(directory_path) if file.endswith('.tif') or file.endswith('.tiff')]\n",
    "    return tiff_files\n",
    "\n",
    "def list_tiff_files_without_prepost(directory_path):\n",
    "    tiff_files = [file.replace('_pre_disaster.tif','').replace('_post_disaster.tif','') for file in os.listdir(directory_path) if file.endswith('.tif') or file.endswith('.tiff')]\n",
    "    return tiff_files\n",
    "\n",
    "def list_all_city_from_files(directory_path):\n",
    "    tiff_files = [file.split('_')[0] for file in os.listdir(directory_path) if file.endswith('.tif') or file.endswith('.tiff')]\n",
    "    city_list = []\n",
    "    [city_list.append(item) for item in tiff_files if item not in city_list]\n",
    "    return city_list"
   ]
  },
  {
   "cell_type": "code",
   "execution_count": 27,
   "id": "655bc666-3d39-47ba-bea4-c5d2eaaf322f",
   "metadata": {},
   "outputs": [
    {
     "name": "stdout",
     "output_type": "stream",
     "text": [
      "Width in pixels: 17553\n",
      "Height in pixels: 17323\n"
     ]
    }
   ],
   "source": [
    "import rasterio\n",
    "\n",
    "def calculate_pixel_dimensions_from_coordinates(raster_path, x_min, y_min, x_max, y_max):\n",
    "    # Open the raster file\n",
    "    with rasterio.open(raster_path) as src:\n",
    "        # Convert coordinates to pixel indices\n",
    "        row_min, col_min = src.index(x_min, y_max)\n",
    "        row_max, col_max = src.index(x_max, y_min)\n",
    "        \n",
    "        # Calculate width and height in pixels\n",
    "        width_pixels = col_max - col_min\n",
    "        height_pixels = row_max - row_min\n",
    "        \n",
    "        return width_pixels, height_pixels\n",
    "\n",
    "# Example usage\n",
    "raster_path = 'turkey_earthquake/images/reprojected_data/Osmaniye_20221227_10300100DF069700_pre_disaster.tif'\n",
    "x_min, y_min, x_max, y_max = 36.2199210777483458,37.0467354080691820,36.2736677870815782,37.0997778649585754\n",
    "\n",
    "width_pixels, height_pixels = calculate_pixel_dimensions_from_coordinates(raster_path, x_min, y_min, x_max, y_max)\n",
    "print(\"Width in pixels:\", width_pixels)\n",
    "print(\"Height in pixels:\", height_pixels)"
   ]
  },
  {
   "cell_type": "code",
   "execution_count": 28,
   "id": "ed764513-4e94-4e9b-a887-4d59d62ed4b3",
   "metadata": {},
   "outputs": [],
   "source": [
    "def get_raster_dimensions(raster_path):\n",
    "    with rasterio.open(raster_path) as src:\n",
    "        width = src.width\n",
    "        height = src.height\n",
    "        return width, height"
   ]
  },
  {
   "cell_type": "code",
   "execution_count": 29,
   "id": "ab8d87b1-e0d0-47c6-bddc-3407d5fde177",
   "metadata": {},
   "outputs": [
    {
     "data": {
      "text/plain": [
       "(17553, 17325)"
      ]
     },
     "execution_count": 29,
     "metadata": {},
     "output_type": "execute_result"
    }
   ],
   "source": [
    "get_raster_dimensions(raster_path)"
   ]
  },
  {
   "cell_type": "code",
   "execution_count": 178,
   "id": "1c850059-37f8-47f5-af32-e91137523887",
   "metadata": {},
   "outputs": [],
   "source": [
    "# import rasterio\n",
    "# from rasterio.windows import Window\n",
    "\n",
    "# def tile_tiff_to_tiff(pre_disaster_tiff, post_disaster_tiff, tile_size=(1024, 1024), output_folder='tiles'):\n",
    "#     print(\"Begin tile:\",pre_disaster_tiff.split('/')[-1])\n",
    "#     # Make sure the output directory exists\n",
    "#     os.makedirs(output_folder, exist_ok=True)\n",
    "\n",
    "#     # List to store bounding box coordinates\n",
    "#     bounding_boxes = []\n",
    "\n",
    "#     # Open the pre-disaster and post-disaster images\n",
    "#     with rasterio.open(pre_disaster_tiff) as pre_src, rasterio.open(post_disaster_tiff) as post_src:\n",
    "#         # Check if both images have the same CRS\n",
    "#         if pre_src.crs != post_src.crs:\n",
    "#             raise ValueError(\"Both images must have the same CRS\")\n",
    "\n",
    "#         # Determine the overlapping region (in the CRS's units)\n",
    "#         left = max(pre_src.bounds.left, post_src.bounds.left)\n",
    "#         bottom = max(pre_src.bounds.bottom, post_src.bounds.bottom)\n",
    "#         right = min(pre_src.bounds.right, post_src.bounds.right)\n",
    "#         top = min(pre_src.bounds.top, post_src.bounds.top)\n",
    "\n",
    "#         # Convert coordinates to pixel indices\n",
    "#         row_min, col_min = pre_src.index(left, top)\n",
    "#         row_max, col_max = pre_src.index(right, bottom)\n",
    "#         # Determine the number of tiles in both dimensions\n",
    "# #         n_tiles_x = int((right - left) // tile_size[0])\n",
    "# #         n_tiles_y = int((top - bottom) // tile_size[1])\n",
    "#         n_tiles_x = int((col_max - col_min) // tile_size[0])\n",
    "#         n_tiles_y = int((row_max - row_min) // tile_size[1])\n",
    "#         print(\"number of tiles:\", n_tiles_x, \"x\", n_tiles_y)\n",
    "        \n",
    "#         # Loop through the tiles\n",
    "#         for i in range(n_tiles_y):\n",
    "#             for j in range(n_tiles_x):\n",
    "#                 # Compute the bounding box of the tile\n",
    "#                 tile_left = left + j * tile_size[0]\n",
    "#                 tile_bottom = bottom + i * tile_size[1]\n",
    "#                 tile_right = tile_left + tile_size[0]\n",
    "#                 tile_top = tile_bottom + tile_size[1]\n",
    "#                 bounding_boxes.append((tile_left, tile_bottom, tile_right, tile_top))\n",
    "\n",
    "#                 # Define the window for the current tile in both images\n",
    "#                 pre_window = rasterio.windows.from_bounds(tile_left, tile_bottom, tile_right, tile_top, pre_src.transform)\n",
    "#                 post_window = rasterio.windows.from_bounds(tile_left, tile_bottom, tile_right, tile_top, post_src.transform)\n",
    "\n",
    "#                 # Read the tile data from both images\n",
    "#                 pre_data = pre_src.read(window=pre_window)\n",
    "#                 post_data = post_src.read(window=post_window)\n",
    "\n",
    "#                 # Generate filenames for the tile\n",
    "#                 pre_filename = output_folder+pre_disaster_tiff.split('/')[-1].replace('.tif','')+'_'+str(i)+'_'+str(j)+'.tif'\n",
    "#                 post_filename = output_folder+post_disaster_tiff.split('/')[-1].replace('.tif','')+'_'+str(i)+'_'+str(j)+'.tif'\n",
    "                \n",
    "#                 # Create output transform\n",
    "#                 output_transform = rasterio.transform.from_bounds(tile_left, tile_bottom, tile_right, tile_top, tile_size[0], tile_size[1])\n",
    "\n",
    "#                 # Save the tiles\n",
    "#                 with rasterio.open(pre_filename, 'w', driver='GTiff', height=tile_size[1], width=tile_size[0],\n",
    "#                                    count=pre_src.count, dtype=pre_src.dtypes[0], crs=pre_src.crs,\n",
    "#                                    transform=output_transform) as pre_dst:\n",
    "#                     pre_dst.write(pre_data)\n",
    "\n",
    "#                 with rasterio.open(post_filename, 'w', driver='GTiff', height=tile_size[1], width=tile_size[0],\n",
    "#                                    count=post_src.count, dtype=post_src.dtypes[0], crs=post_src.crs,\n",
    "#                                    transform=output_transform) as post_dst:\n",
    "#                     post_dst.write(post_data)\n",
    "\n",
    "#         print(f'{n_tiles_x * n_tiles_y} tiles created in {output_folder}')\n",
    "\n",
    "#     return bounding_boxes"
   ]
  },
  {
   "cell_type": "code",
   "execution_count": 177,
   "id": "7abb2198-ed9b-4fda-ad0f-979f6061f085",
   "metadata": {},
   "outputs": [],
   "source": [
    "# from shapely.geometry import box\n",
    "# from rasterio.coords import BoundingBox\n",
    "\n",
    "# with rasterio.open(pre_disaster_tiff) as pre_src, rasterio.open(post_disaster_tiff) as post_src:\n",
    "#     pre_src_bound = box(*pre_src.bounds)\n",
    "#     post_src_bound = box(*post_src.bounds)\n",
    "#     intersection = pre_src_bound.intersection(post_src_bound)\n",
    "#     col_off, row_off = pre_src.index(left, top)\n",
    "#     col_off_end, row_off_end = pre_src.index(right, bottom)\n",
    "#     width = col_off_end - col_off\n",
    "#     height = row_off_end - row_off\n",
    "# print(intersection.bounds)\n",
    "# print(col_off_end, row_off_end)\n",
    "# print(width,height)"
   ]
  },
  {
   "cell_type": "code",
   "execution_count": 30,
   "id": "24b9c46e-32f4-4f77-8bf8-2582904d5b8f",
   "metadata": {},
   "outputs": [],
   "source": [
    "# # This code almost works except the outputs of pre-disaster and post-disaster tiff should have the same geographic coordinates\n",
    "# import rasterio\n",
    "# import os\n",
    "# from rasterio.windows import Window\n",
    "# from rasterio.coords import BoundingBox\n",
    "\n",
    "# def tile_tiff_image(pre_disaster_path, post_disaster_path, output_dir):\n",
    "#     print(\"Begin tile:\",pre_disaster_path.split('/')[-1])\n",
    "#     # Ensure output directory exists\n",
    "#     if not os.path.exists(output_dir):\n",
    "#         os.makedirs(output_dir)\n",
    "\n",
    "#     # Open both images\n",
    "#     with rasterio.open(pre_disaster_path) as pre_src, rasterio.open(post_disaster_path) as post_src:\n",
    "#         # Assert same CRS\n",
    "#         assert pre_src.crs == post_src.crs, \"CRS of pre_disaster and post_disaster images don't match.\"\n",
    "        \n",
    "#         # Calculate intersection window in pixel coordinates\n",
    "#         pre_src_bound = box(*pre_src.bounds)\n",
    "#         post_src_bound = box(*post_src.bounds)\n",
    "#         intersection = pre_src_bound.intersection(post_src_bound)\n",
    "#         if intersection.is_empty:\n",
    "#             raise ValueError(\"The two images do not overlap.\")\n",
    "\n",
    "#         left, bottom, right, top = intersection.bounds\n",
    "#         col_off, row_off = pre_src.index(left, top)\n",
    "#         col_off_end, row_off_end = pre_src.index(right, bottom)\n",
    "#         width = col_off_end - col_off\n",
    "#         height = row_off_end - row_off\n",
    "\n",
    "#         # Tile size\n",
    "#         tile_size = 1024\n",
    "\n",
    "#         # Calculate the number of tiles in x and y direction within the intersection\n",
    "#         n_tiles_x = int(width / tile_size)\n",
    "#         n_tiles_y = int(height / tile_size)\n",
    "#         print(\"number of tiles:\", n_tiles_x, \"x\", n_tiles_y, \"=\",n_tiles_x*n_tiles_y)\n",
    "\n",
    "#         # Tile the intersection region\n",
    "#         for i in range(n_tiles_x):\n",
    "#             for j in range(n_tiles_y):\n",
    "#                 window = Window(col_off + i*tile_size, row_off + j*tile_size, tile_size, tile_size)\n",
    "                \n",
    "#                 # Read pre_disaster tile\n",
    "#                 pre_tile = pre_src.read(window=window)\n",
    "#                 pre_tile_meta = pre_src.meta.copy()\n",
    "#                 pre_tile_meta.update({\n",
    "#                     \"height\": tile_size,\n",
    "#                     \"width\": tile_size,\n",
    "#                     \"transform\": rasterio.windows.transform(window, pre_src.transform)\n",
    "#                 })\n",
    "#                 pre_output_path = output_dir+pre_disaster_path.split('/')[-1].replace('.tif','')+'_'+str(i)+'_'+str(j)+'.tif'\n",
    "#                 with rasterio.open(pre_output_path, \"w\", **pre_tile_meta) as dest:\n",
    "#                     dest.write(pre_tile)\n",
    "\n",
    "#                 # Read post_disaster tile\n",
    "#                 post_tile = post_src.read(window=window)\n",
    "#                 post_tile_meta = post_src.meta.copy()\n",
    "#                 post_tile_meta.update({\n",
    "#                     \"height\": tile_size,\n",
    "#                     \"width\": tile_size,\n",
    "#                     \"transform\": rasterio.windows.transform(window, post_src.transform)\n",
    "#                 })\n",
    "#                 post_output_path = output_dir+post_disaster_path.split('/')[-1].replace('.tif','')+'_'+str(i)+'_'+str(j)+'.tif'\n",
    "#                 with rasterio.open(post_output_path, \"w\", **post_tile_meta) as dest:\n",
    "#                     dest.write(post_tile)"
   ]
  },
  {
   "cell_type": "code",
   "execution_count": 32,
   "id": "368b0e3c-19f9-4009-a6c8-e0bd477f1c08",
   "metadata": {},
   "outputs": [],
   "source": [
    "import rasterio\n",
    "import os\n",
    "from rasterio.windows import Window\n",
    "from rasterio.coords import BoundingBox\n",
    "from shapely.geometry import box\n",
    "\n",
    "def tile_tiff_image(pre_disaster_path, post_disaster_path, output_dir):\n",
    "    print(\"Begin tile:\",pre_disaster_path.split('/')[-1])\n",
    "    # Ensure output directory exists\n",
    "    if not os.path.exists(output_dir):\n",
    "        os.makedirs(output_dir)\n",
    "\n",
    "    # Open both images\n",
    "    with rasterio.open(pre_disaster_path) as pre_src, rasterio.open(post_disaster_path) as post_src:\n",
    "        # Assert same CRS\n",
    "        assert pre_src.crs == post_src.crs, \"CRS of pre_disaster and post_disaster images don't match.\"\n",
    "                \n",
    "        # Calculate intersection window in pixel coordinates\n",
    "        pre_src_bound = box(*pre_src.bounds)\n",
    "        post_src_bound = box(*post_src.bounds)\n",
    "        intersection = pre_src_bound.intersection(post_src_bound)\n",
    "        if intersection.is_empty:\n",
    "            raise ValueError(\"The two images do not overlap.\")\n",
    "\n",
    "        left, bottom, right, top = intersection.bounds\n",
    "        col_off, row_off = pre_src.index(left, top)\n",
    "        col_off_end, row_off_end = pre_src.index(right, bottom)\n",
    "        width = col_off_end - col_off\n",
    "        height = row_off_end - row_off\n",
    "\n",
    "        # Tile size\n",
    "        tile_size = 1024\n",
    "\n",
    "        # Calculate the number of tiles in x and y direction within the intersection\n",
    "        n_tiles_x = int(width / tile_size)\n",
    "        n_tiles_y = int(height / tile_size)\n",
    "        print(\"number of tiles:\", n_tiles_x, \"x\", n_tiles_y, \"=\",n_tiles_x*n_tiles_y)\n",
    "\n",
    "        # Tile the intersection region\n",
    "        for i in range(n_tiles_x):\n",
    "            for j in range(n_tiles_y):\n",
    "                \n",
    "                pre_x_start, pre_y_start = pre_src.index(left, top)[1] + i*tile_size, pre_src.index(left, top)[0] + j*tile_size\n",
    "                post_x_start, post_y_start = post_src.index(left, top)[1] + i*tile_size, post_src.index(left, top)[0] + j*tile_size\n",
    "\n",
    "                # Window for each raster based on their respective resolutions\n",
    "                pre_window = Window(pre_x_start, pre_y_start, tile_size, tile_size)\n",
    "                post_window = Window(post_x_start, post_y_start, tile_size, tile_size)\n",
    "                \n",
    "                # Read pre_disaster tile\n",
    "                try:\n",
    "                    pre_tile = pre_src.read(window=pre_window)\n",
    "                    pre_tile_meta = pre_src.meta.copy()\n",
    "                    pre_tile_meta.update({\n",
    "                        \"height\": tile_size,\n",
    "                        \"width\": tile_size,\n",
    "                        \"transform\": rasterio.windows.transform(pre_window, pre_src.transform)\n",
    "                    })\n",
    "                    pre_output_path = output_dir+pre_disaster_path.split('/')[-1].replace('.tif','')+'_'+str(i)+'_'+str(j)+'.tif'\n",
    "                    with rasterio.open(pre_output_path, \"w\", **pre_tile_meta) as dest:\n",
    "                        dest.write(pre_tile)\n",
    "                except Exception as exc:\n",
    "                    print(exc,pre_disaster_path)\n",
    "\n",
    "                # Read post_disaster tile\n",
    "                try:\n",
    "                    post_tile = post_src.read(window=post_window)\n",
    "                    post_tile_meta = post_src.meta.copy()\n",
    "                    post_tile_meta.update({\n",
    "                        \"height\": tile_size,\n",
    "                        \"width\": tile_size,\n",
    "                        \"transform\": rasterio.windows.transform(post_window, post_src.transform)\n",
    "                    })\n",
    "                    post_output_path = output_dir+post_disaster_path.split('/')[-1].replace('.tif','')+'_'+str(i)+'_'+str(j)+'.tif'\n",
    "                    with rasterio.open(post_output_path, \"w\", **post_tile_meta) as dest:\n",
    "                        dest.write(post_tile)\n",
    "                except Exception as exc:\n",
    "                    print(exc,post_disaster_path)"
   ]
  },
  {
   "cell_type": "code",
   "execution_count": 34,
   "id": "76797e9b-8d04-4224-8a63-6ba612812650",
   "metadata": {},
   "outputs": [],
   "source": [
    "img_dir = 'turkey_earthquake/images/reprojected_data/'\n",
    "label_dir = ''"
   ]
  },
  {
   "cell_type": "code",
   "execution_count": 35,
   "id": "23bbe199-f89b-4c7b-b17d-d352279e90bd",
   "metadata": {},
   "outputs": [
    {
     "data": {
      "text/plain": [
       "['Osmaniye']"
      ]
     },
     "execution_count": 35,
     "metadata": {},
     "output_type": "execute_result"
    }
   ],
   "source": [
    "city_list = list_all_city_from_files(img_dir)\n",
    "city_list"
   ]
  },
  {
   "cell_type": "code",
   "execution_count": 36,
   "id": "4661ff3f-7695-425b-a666-43ad4192e5dd",
   "metadata": {},
   "outputs": [
    {
     "data": {
      "text/plain": [
       "'Osmaniye_20221227_10300100DF069700_pre_disaster.tif'"
      ]
     },
     "execution_count": 36,
     "metadata": {},
     "output_type": "execute_result"
    }
   ],
   "source": [
    "city = 'Osmaniye'\n",
    "pre_disaster_tiff = [filename for filename in list_tiff_files(img_dir) if city in filename and '_pre_' in filename][0]\n",
    "pre_disaster_tiff"
   ]
  },
  {
   "cell_type": "code",
   "execution_count": 37,
   "id": "fd23cdcb-f87b-460d-9381-2c2c90718f51",
   "metadata": {},
   "outputs": [
    {
     "name": "stdout",
     "output_type": "stream",
     "text": [
      "Begin tile: Osmaniye_20221227_10300100DF069700_pre_disaster.tif\n",
      "number of tiles: 13 x 17 = 221\n",
      "CPU times: user 2min 14s, sys: 7.15 s, total: 2min 21s\n",
      "Wall time: 2min 23s\n"
     ]
    }
   ],
   "source": [
    "%%time\n",
    "filename = list_tiff_files_without_prepost(img_dir)[0]\n",
    "city = filename.split('_')[0]\n",
    "pre_disaster_tiff = img_dir + [filename for filename in list_tiff_files(img_dir) if city in filename and '_pre_' in filename][0]\n",
    "post_disaster_tiff = img_dir + [filename for filename in list_tiff_files(img_dir) if city in filename and '_post_' in filename][0]\n",
    "output_folder = 'turkey_earthquake/images/tile_images/'+city+'/'\n",
    "\n",
    "# output_path = output_folder+pre_disaster_tiff.split('/')[-1].replace('.tif','')+'_'+str(i)+'_'+str(j)+'.png'\n",
    "tile_tiff_image(pre_disaster_path = pre_disaster_tiff, post_disaster_path = post_disaster_tiff, output_dir=output_folder)"
   ]
  },
  {
   "cell_type": "code",
   "execution_count": 242,
   "id": "ac77a88a-9df3-4193-b387-0be2d37c58d0",
   "metadata": {},
   "outputs": [
    {
     "data": {
      "text/plain": [
       "'Osmaniye_20221227_10300100DF069700_pre_disaster.tif'"
      ]
     },
     "execution_count": 242,
     "metadata": {},
     "output_type": "execute_result"
    }
   ],
   "source": [
    "filename = list_tiff_files_without_prepost(img_dir)[0]\n",
    "pre_disaster_tiff = img_dir + filename + '_pre_disaster.tif'\n",
    "post_disaster_tiff = img_dir + filename + '_post_disaster.tif'\n",
    "output_folder = 'turkey_earthquake/images/tile_images/'\n",
    "pre_disaster_tiff.split('/')[-1]"
   ]
  },
  {
   "cell_type": "code",
   "execution_count": 283,
   "id": "87bcb971-30b2-4b10-a6cc-908de7e53659",
   "metadata": {},
   "outputs": [
    {
     "name": "stdout",
     "output_type": "stream",
     "text": [
      "Begin tile: Osmaniye_20221227_10300100DF069700_pre_disaster.tif\n",
      "Intersection Coordinates: (36.219921077748346, 37.05650981186665, 36.27366778708158, 37.099777864958575)\n",
      "Raster Size: 14130 17553\n",
      "number of tiles: 13 x 17 = 221\n",
      "36.219921077748346 37.099777864958575\n",
      "0 0\n",
      "2190 10548\n"
     ]
    }
   ],
   "source": [
    "# ##### FOR DEBUG\n",
    "# filename = list_tiff_files_without_prepost(img_dir)[0]\n",
    "# city = filename.split('_')[0]\n",
    "# pre_disaster_tiff = img_dir + [filename for filename in list_tiff_files(img_dir) if city in filename and '_pre_' in filename][0]\n",
    "# post_disaster_tiff = img_dir + [filename for filename in list_tiff_files(img_dir) if city in filename and '_post_' in filename][0]\n",
    "# pre_disaster_path = pre_disaster_tiff\n",
    "# post_disaster_path = post_disaster_tiff\n",
    "# output_dir=output_folder\n",
    "\n",
    "# print(\"Begin tile:\",pre_disaster_path.split('/')[-1])\n",
    "# # Ensure output directory exists\n",
    "# if not os.path.exists(output_dir):\n",
    "#     os.makedirs(output_dir)\n",
    "\n",
    "# # Open both images\n",
    "# with rasterio.open(pre_disaster_path) as pre_src, rasterio.open(post_disaster_path) as post_src:\n",
    "#     # Assert same CRS\n",
    "#     assert pre_src.crs == post_src.crs, \"CRS of pre_disaster and post_disaster images don't match.\"\n",
    "\n",
    "#     # Calculate intersection window in pixel coordinates\n",
    "#     pre_src_bound = box(*pre_src.bounds)\n",
    "#     post_src_bound = box(*post_src.bounds)\n",
    "#     intersection = pre_src_bound.intersection(post_src_bound)\n",
    "#     if intersection.is_empty:\n",
    "#         raise ValueError(\"The two images do not overlap.\")\n",
    "\n",
    "#     left, bottom, right, top = intersection.bounds\n",
    "#     col_off, row_off = pre_src.index(left, top)\n",
    "#     col_off_end, row_off_end = pre_src.index(right, bottom)\n",
    "#     width = col_off_end - col_off\n",
    "#     height = row_off_end - row_off\n",
    "#     print(\"Intersection Coordinates:\",intersection.bounds)\n",
    "#     print(\"Raster Size:\",width,height)\n",
    "\n",
    "#     # Tile size\n",
    "#     tile_size = 1024\n",
    "\n",
    "#     # Calculate the number of tiles in x and y direction within the intersection\n",
    "#     n_tiles_x = int(width / tile_size)\n",
    "#     n_tiles_y = int(height / tile_size)\n",
    "#     print(\"number of tiles:\", n_tiles_x, \"x\", n_tiles_y, \"=\",n_tiles_x*n_tiles_y)\n",
    "    \n",
    "#     i = 0\n",
    "#     j = 0\n",
    "#     pre_x_start, pre_y_start = pre_src.index(left, top)[0] + i*tile_size, pre_src.index(left, top)[1] + j*tile_size\n",
    "#     post_x_start, post_y_start = post_src.index(left, top)[0] + i*tile_size, post_src.index(left, top)[1] + j*tile_size\n",
    "#     print(left,top)\n",
    "#     print(pre_x_start,pre_y_start)\n",
    "#     print(post_x_start,post_y_start)\n",
    "# #     print(pre_src.index(left, top),post_src.index(left, top))\n",
    "# #     print(pre_src.index(left, top),post_src.index(left, top))\n",
    "# #     print(post_src.index(left, top)[0])"
   ]
  },
  {
   "cell_type": "code",
   "execution_count": 276,
   "id": "52460ec0-ab96-49ac-ac98-c013e6987255",
   "metadata": {},
   "outputs": [
    {
     "data": {
      "text/plain": [
       "(251492, 263004)"
      ]
     },
     "execution_count": 276,
     "metadata": {},
     "output_type": "execute_result"
    }
   ],
   "source": [
    "post_src.index(37.05666, 36.27349)"
   ]
  },
  {
   "cell_type": "code",
   "execution_count": 281,
   "id": "e143d6bf-b202-414c-ae2a-82e054d77772",
   "metadata": {},
   "outputs": [
    {
     "data": {
      "text/plain": [
       "(36.219921077748346, 37.05650981186665, 36.27366778708158, 37.099777864958575)"
      ]
     },
     "execution_count": 281,
     "metadata": {},
     "output_type": "execute_result"
    }
   ],
   "source": [
    "intersection.bounds"
   ]
  },
  {
   "cell_type": "code",
   "execution_count": 297,
   "id": "9d4311f4-3992-4aad-bccc-9a1a76febd91",
   "metadata": {},
   "outputs": [
    {
     "data": {
      "text/plain": [
       "(3.3143989590560466e-06, 3.3143989590560466e-06)"
      ]
     },
     "execution_count": 297,
     "metadata": {},
     "output_type": "execute_result"
    }
   ],
   "source": [
    "post_src.res"
   ]
  },
  {
   "cell_type": "code",
   "execution_count": 298,
   "id": "97eb00f0-92ce-4465-bab9-3046d1df3c37",
   "metadata": {},
   "outputs": [
    {
     "data": {
      "text/plain": [
       "(3.0619671471104993e-06, 3.0619671471104993e-06)"
      ]
     },
     "execution_count": 298,
     "metadata": {},
     "output_type": "execute_result"
    }
   ],
   "source": [
    "pre_src.res"
   ]
  },
  {
   "cell_type": "code",
   "execution_count": 280,
   "id": "be28bfc8-9e59-4b70-9779-a5c65c8c0cca",
   "metadata": {},
   "outputs": [
    {
     "data": {
      "text/plain": [
       "15245"
      ]
     },
     "execution_count": 280,
     "metadata": {},
     "output_type": "execute_result"
    }
   ],
   "source": [
    "post_src.height"
   ]
  },
  {
   "cell_type": "code",
   "execution_count": 288,
   "id": "ddf481e3-0be2-4149-9939-9f21e818d11d",
   "metadata": {},
   "outputs": [
    {
     "data": {
      "text/plain": [
       "(14130, 0)"
      ]
     },
     "execution_count": 288,
     "metadata": {},
     "output_type": "execute_result"
    }
   ],
   "source": [
    "pre_src.index(left, bottom)"
   ]
  },
  {
   "cell_type": "code",
   "execution_count": 287,
   "id": "f2f2d51e-36b7-4a18-a2b8-fa2c777434a0",
   "metadata": {},
   "outputs": [
    {
     "data": {
      "text/plain": [
       "(15245, 10548)"
      ]
     },
     "execution_count": 287,
     "metadata": {},
     "output_type": "execute_result"
    }
   ],
   "source": [
    "post_src.index(left, bottom)"
   ]
  },
  {
   "cell_type": "markdown",
   "id": "09ab6bd5-1f9d-4561-b194-5a8c2c3bef8d",
   "metadata": {},
   "source": [
    "### Run Script for every city"
   ]
  },
  {
   "cell_type": "code",
   "execution_count": 205,
   "id": "6659367d-4f09-4f6e-adcd-3df780324d8a",
   "metadata": {},
   "outputs": [
    {
     "name": "stderr",
     "output_type": "stream",
     "text": [
      "0it [00:00, ?it/s]\n"
     ]
    }
   ],
   "source": [
    "from tqdm import tqdm\n",
    "for city in tqdm(city_list[3:]):\n",
    "    pre_disaster_tiff = img_dir + [filename for filename in list_tiff_files(img_dir) if city in filename and '_pre_' in filename][0]\n",
    "    post_disaster_tiff = img_dir + [filename for filename in list_tiff_files(img_dir) if city in filename and '_post_' in filename][0]\n",
    "    output_folder = 'turkey_earthquake/images/tile_images/'+city+'/'\n",
    "    tile_tiff_image(pre_disaster_path = pre_disaster_tiff, post_disaster_path = post_disaster_tiff, output_dir=output_folder)"
   ]
  },
  {
   "cell_type": "markdown",
   "id": "91ea027b-2912-4161-b1e2-ad041c971dd2",
   "metadata": {},
   "source": [
    "### Tiling tiff and json"
   ]
  },
  {
   "cell_type": "code",
   "execution_count": 38,
   "id": "311929a3-79db-4011-8f57-05f456e0f943",
   "metadata": {},
   "outputs": [],
   "source": [
    "from shapely.ops import transform\n",
    "import pyproj\n",
    "from functools import partial\n",
    "from shapely import wkt\n",
    "\n",
    "def get_tif_extent(tif_file):\n",
    "    with rasterio.open(tif_file) as src:\n",
    "        bounds = src.bounds  # Returns (left, bottom, right, top) coordinates\n",
    "        crs = src.crs.to_string()\n",
    "        extent_tuple = (bounds.left, bounds.bottom, bounds.right, bounds.top)\n",
    "    \n",
    "    return bounds, crs\n",
    "\n",
    "def filter_geodataframe_by_bbox(gdf, bbox):\n",
    "    # Create a bounding box geometry from the given bbox\n",
    "    bbox_geom = box(*bbox)\n",
    "    filtered_gdf = gpd.clip(label_gdf, bbox_geom)\n",
    "    \n",
    "    return filtered_gdf\n",
    "\n",
    "def geojson_to_wkt(gdf):\n",
    "    \"\"\"\n",
    "    Convert a GeoJSON file to a specific WKT format.\n",
    "    \n",
    "    Parameters:\n",
    "    - gdf: Label GeoDataFrame\n",
    "    \n",
    "    Returns:\n",
    "    - Dictionary containing the converted data in the wkt format.\n",
    "    \"\"\"\n",
    "    \n",
    "#     # Load the GeoJSON file into a GeoDataFrame\n",
    "#     gdf = gpd.read_file(input_geojson_path)\n",
    "    \n",
    "    # Convert the GeoDataFrame to the desired format\n",
    "    features_list = []\n",
    "    for _, row in gdf.iterrows():\n",
    "        feature_data = {\n",
    "            \"properties\": {\n",
    "                \"feature_type\": row.get(\"obj_type\", \"Unknown\"),\n",
    "                \"subtype\": row.get(\"damage_gra\", \"Unknown\"),\n",
    "                \"name\": row.get(\"name\", \"Unknown\"),\n",
    "                \"building_type\": row.get(\"info\", \"Unknown\")\n",
    "            },\n",
    "            \"wkt\": row.geometry.wkt\n",
    "        }\n",
    "        features_list.append(feature_data)\n",
    "    \n",
    "    # Create the final dictionary structure\n",
    "    output_data = {\n",
    "        \"features\": {\n",
    "            \"lng_lat\": features_list\n",
    "        },\n",
    "        \"metadata\": {\n",
    "            \"notation\": \"Building block\"\n",
    "        }\n",
    "    }\n",
    "    \n",
    "    return output_data\n",
    "\n",
    "def convert_to_pixel_coordinates(input_json, extent, image_width, image_height):\n",
    "    # Extract bounds from the extent parameter\n",
    "    minx, miny, maxx, maxy = extent\n",
    "    \n",
    "    # Input: WKT in geographic coordinates\n",
    "    wkt_geom = wkt.loads(input_json[\"wkt\"])\n",
    "    \n",
    "    # Transformation function: geographic to pixel coordinates\n",
    "    def transform_to_pixel(x, y, z=None):\n",
    "        pixel_x = (x - minx) / (maxx - minx) * image_width\n",
    "        pixel_y = image_height - (y - miny) / (maxy - miny) * image_height\n",
    "        return pixel_x, pixel_y\n",
    "    \n",
    "    # Create a partial function with the transformation\n",
    "    transformer = partial(transform_to_pixel)\n",
    "    \n",
    "    # Apply the transformation\n",
    "    pixel_geom = transform(transformer, wkt_geom)\n",
    "    \n",
    "    # Return the transformed WKT\n",
    "    return pixel_geom.wkt\n",
    "\n",
    "def add_pixel_coordinates(input_json, image_width, image_height):\n",
    "    output_json = input_json.copy()\n",
    "    output_json[\"features\"][\"xy\"] = []\n",
    "    for i in range(len(input_json['features']['lng_lat'])):\n",
    "        output_json[\"features\"][\"xy\"].append(input_json[\"features\"][\"lng_lat\"][i].copy())\n",
    "        output_json[\"features\"][\"xy\"][i][\"wkt\"] = convert_to_pixel_coordinates(input_json[\"features\"][\"lng_lat\"][i],provided_extent,image_width,image_height)\n",
    "    return output_json"
   ]
  },
  {
   "cell_type": "code",
   "execution_count": null,
   "id": "250228b5-b5a1-416a-a05d-26e7ab50d539",
   "metadata": {},
   "outputs": [],
   "source": [
    "import rasterio\n",
    "import os\n",
    "from rasterio.windows import Window\n",
    "from rasterio.coords import BoundingBox\n",
    "from shapely.geometry import box\n",
    "\n",
    "def tile_tiff_and_json(pre_disaster_path, post_disaster_path, output_dir):\n",
    "    print(\"Begin tile:\",pre_disaster_path.split('/')[-1])\n",
    "    # Ensure output directory exists\n",
    "    if not os.path.exists(output_dir):\n",
    "        os.makedirs(output_dir)\n",
    "\n",
    "    # Open both images\n",
    "    with rasterio.open(pre_disaster_path) as pre_src, rasterio.open(post_disaster_path) as post_src:\n",
    "        # Assert same CRS\n",
    "        assert pre_src.crs == post_src.crs, \"CRS of pre_disaster and post_disaster images don't match.\"\n",
    "                \n",
    "        # Calculate intersection window in pixel coordinates\n",
    "        pre_src_bound = box(*pre_src.bounds)\n",
    "        post_src_bound = box(*post_src.bounds)\n",
    "        intersection = pre_src_bound.intersection(post_src_bound)\n",
    "        if intersection.is_empty:\n",
    "            raise ValueError(\"The two images do not overlap.\")\n",
    "\n",
    "        left, bottom, right, top = intersection.bounds\n",
    "        col_off, row_off = pre_src.index(left, top)\n",
    "        col_off_end, row_off_end = pre_src.index(right, bottom)\n",
    "        width = col_off_end - col_off\n",
    "        height = row_off_end - row_off\n",
    "\n",
    "        # Tile size\n",
    "        tile_size = 1024\n",
    "\n",
    "        # Calculate the number of tiles in x and y direction within the intersection\n",
    "        n_tiles_x = int(width / tile_size)\n",
    "        n_tiles_y = int(height / tile_size)\n",
    "        print(\"number of tiles:\", n_tiles_x, \"x\", n_tiles_y, \"=\",n_tiles_x*n_tiles_y)\n",
    "\n",
    "        # Tile the intersection region\n",
    "        for i in range(n_tiles_x):\n",
    "            for j in range(n_tiles_y):\n",
    "                \n",
    "                pre_x_start, pre_y_start = pre_src.index(left, top)[1] + i*tile_size, pre_src.index(left, top)[0] + j*tile_size\n",
    "                post_x_start, post_y_start = post_src.index(left, top)[1] + i*tile_size, post_src.index(left, top)[0] + j*tile_size\n",
    "\n",
    "                # Window for each raster based on their respective resolutions\n",
    "                pre_window = Window(pre_x_start, pre_y_start, tile_size, tile_size)\n",
    "                post_window = Window(post_x_start, post_y_start, tile_size, tile_size)\n",
    "                \n",
    "                # Read pre_disaster tile\n",
    "                pre_tile = pre_src.read(window=pre_window)\n",
    "                pre_tile_meta = pre_src.meta.copy()\n",
    "                pre_tile_meta.update({\n",
    "                    \"height\": tile_size,\n",
    "                    \"width\": tile_size,\n",
    "                    \"transform\": rasterio.windows.transform(pre_window, pre_src.transform)\n",
    "                })\n",
    "                pre_output_path = output_dir+pre_disaster_path.split('/')[-1].replace('.tif','')+'_'+str(i)+'_'+str(j)+'.tif'\n",
    "                with rasterio.open(pre_output_path, \"w\", **pre_tile_meta) as dest:\n",
    "                    dest.write(pre_tile)\n",
    "\n",
    "                # Read post_disaster tile\n",
    "                post_tile = post_src.read(window=post_window)\n",
    "                post_tile_meta = post_src.meta.copy()\n",
    "                post_tile_meta.update({\n",
    "                    \"height\": tile_size,\n",
    "                    \"width\": tile_size,\n",
    "                    \"transform\": rasterio.windows.transform(post_window, post_src.transform)\n",
    "                })\n",
    "                post_output_path = output_dir+post_disaster_path.split('/')[-1].replace('.tif','')+'_'+str(i)+'_'+str(j)+'.tif'\n",
    "                with rasterio.open(post_output_path, \"w\", **post_tile_meta) as dest:\n",
    "                    dest.write(post_tile)"
   ]
  }
 ],
 "metadata": {
  "kernelspec": {
   "display_name": "Python 3",
   "language": "python",
   "name": "python3"
  },
  "language_info": {
   "codemirror_mode": {
    "name": "ipython",
    "version": 3
   },
   "file_extension": ".py",
   "mimetype": "text/x-python",
   "name": "python",
   "nbconvert_exporter": "python",
   "pygments_lexer": "ipython3",
   "version": "3.8.8"
  }
 },
 "nbformat": 4,
 "nbformat_minor": 5
}
