{
 "cells": [
  {
   "cell_type": "markdown",
   "id": "9cee10d3-4dd7-4603-b5f0-69c5750a06aa",
   "metadata": {},
   "source": [
    "Reprojection\n",
    "- Reproject to EPSG:4326\n",
    "- Ensure pre-disaster raster and post-disaster raster have the same resolution (30 cm)\n",
    "- Crop raster to removed masked pixels as much as possible\n",
    "- Compress raster using DEFLATE"
   ]
  },
  {
   "cell_type": "code",
   "execution_count": 12,
   "id": "ba000b9a-c6f8-4565-b7fe-def02aaf7fb5",
   "metadata": {},
   "outputs": [],
   "source": [
    "import numpy as np\n",
    "import rasterio\n",
    "from rasterio.warp import calculate_default_transform, reproject\n",
    "from rasterio.enums import Resampling\n",
    "from rasterio.windows import Window\n",
    "\n",
    "def reproject_and_crop_raster(raster_path, output_path, target_crs='EPSG:4326', resampling_method=Resampling.bilinear):\n",
    "    \"\"\"\n",
    "    Reproject a raster to a specified target CRS, crop to remove masked pixels, and compress the output.\n",
    "\n",
    "    Parameters:\n",
    "        raster_path (str): Path to the input raster file.\n",
    "        target_crs (str): The target CRS in 'EPSG:xxxx' format.\n",
    "        resampling_method (Resampling): Resampling method from rasterio.enums.Resampling.\n",
    "\n",
    "    Returns:\n",
    "        output_path: Path to the saved reprojected and cropped raster.\n",
    "    \"\"\"\n",
    "    \n",
    "    with rasterio.open(raster_path) as raster:\n",
    "        # 1. Reprojection\n",
    "        transform, width, height = calculate_default_transform(\n",
    "            raster.crs, target_crs, raster.width, raster.height, *raster.bounds,resolution=(3.061967147110499275e-06, 3.061967147110499275e-06))\n",
    "        \n",
    "        reprojected_data = np.empty((raster.count, height, width), dtype=raster.dtypes[0])\n",
    "        reproject(\n",
    "            source=rasterio.band(raster, list(range(1, raster.count+1))),\n",
    "            destination=reprojected_data,\n",
    "            src_transform=raster.transform,\n",
    "            src_crs=raster.crs,\n",
    "            dst_transform=transform,\n",
    "            dst_crs=target_crs,\n",
    "            resampling=resampling_method)\n",
    "\n",
    "        # 2. Cropping to remove masked pixels\n",
    "        no_data_value = 0 # Modify this if your nodata value is different\n",
    "        rows, cols = np.where(reprojected_data[0] != no_data_value)\n",
    "        min_row, max_row = rows.min(), rows.max() + 1\n",
    "        min_col, max_col = cols.min(), cols.max() + 1\n",
    "        window = Window(col_off=min_col, row_off=min_row, width=max_col-min_col, height=max_row-min_row)\n",
    "        cropped_data = reprojected_data[:, min_row:max_row, min_col:max_col]\n",
    "\n",
    "        # Update the transform for the cropped raster\n",
    "        cropped_transform = rasterio.windows.transform(window, transform)\n",
    "\n",
    "        # 3. Compression and save to output TIFF\n",
    "        profile = raster.profile.copy()\n",
    "        profile.update({\n",
    "            'crs': target_crs,\n",
    "            'transform': cropped_transform,\n",
    "            'width': window.width,\n",
    "            'height': window.height,\n",
    "            'compress': 'deflate'  # Using deflate compression\n",
    "        })\n",
    "        with rasterio.open(output_path, 'w', **profile) as dst:\n",
    "            dst.write(cropped_data)\n",
    "\n",
    "    return output_path"
   ]
  },
  {
   "cell_type": "code",
   "execution_count": 13,
   "id": "fb9eaf22-8155-4ebf-bcd8-1f293f953622",
   "metadata": {},
   "outputs": [
    {
     "data": {
      "text/plain": [
       "['Osmaniye_20221227_10300100DF069700_pre_disaster.tif',\n",
       " 'Osmaniye_20230208_10300500D9F8D400_post_disaster.tif']"
      ]
     },
     "execution_count": 13,
     "metadata": {},
     "output_type": "execute_result"
    }
   ],
   "source": [
    "import os\n",
    "\n",
    "img_dir = 'turkey_earthquake/images/merged_data/'\n",
    "output_dir = 'turkey_earthquake/images/reprojected_data/'\n",
    "img_list = [file for file in os.listdir(img_dir) if file.endswith('.tif') or file.endswith('.tiff')]\n",
    "img_list"
   ]
  },
  {
   "cell_type": "code",
   "execution_count": 15,
   "id": "cbb0eeda-051e-49cb-9a6a-7d08f4c8ec0f",
   "metadata": {},
   "outputs": [
    {
     "name": "stdout",
     "output_type": "stream",
     "text": [
      "CPU times: user 2min 15s, sys: 15.8 s, total: 2min 31s\n",
      "Wall time: 2min 41s\n"
     ]
    },
    {
     "data": {
      "text/plain": [
       "'turkey_earthquake/images/reprojected_data/Osmaniye_20230208_10300500D9F8D400_post_disaster.tif'"
      ]
     },
     "execution_count": 15,
     "metadata": {},
     "output_type": "execute_result"
    }
   ],
   "source": [
    "%%time\n",
    "input_path = img_dir+img_list[1]\n",
    "output_path = output_dir+img_list[1]\n",
    "output_path = reproject_and_crop_raster(input_path, output_path, target_crs='EPSG:4326')\n",
    "output_path"
   ]
  },
  {
   "cell_type": "markdown",
   "id": "87a722b9-661f-46bf-87a5-c115da13bf39",
   "metadata": {},
   "source": [
    "## Script to run the whole dataset"
   ]
  },
  {
   "cell_type": "code",
   "execution_count": null,
   "id": "30b513f2-2994-4923-b852-cdfd0e384470",
   "metadata": {},
   "outputs": [],
   "source": [
    "from tqdm import tqdm\n",
    "\n",
    "img_dir = 'turkey_earthquake/images/merged_data/'\n",
    "output_dir = 'turkey_earthquake/images/reprojected_data/'\n",
    "img_list = [file for file in os.listdir(img_dir) if file.endswith('.tif') or file.endswith('.tiff')]\n",
    "\n",
    "for i in tqdm(range(len(img_list))):\n",
    "    input_path = img_dir+img_list[i]\n",
    "    output_path = output_dir+img_list[i]\n",
    "    reproject_and_crop_raster(input_path, output_path, target_crs='EPSG:4326')"
   ]
  }
 ],
 "metadata": {
  "kernelspec": {
   "display_name": "Python 3",
   "language": "python",
   "name": "python3"
  },
  "language_info": {
   "codemirror_mode": {
    "name": "ipython",
    "version": 3
   },
   "file_extension": ".py",
   "mimetype": "text/x-python",
   "name": "python",
   "nbconvert_exporter": "python",
   "pygments_lexer": "ipython3",
   "version": "3.8.8"
  }
 },
 "nbformat": 4,
 "nbformat_minor": 5
}
