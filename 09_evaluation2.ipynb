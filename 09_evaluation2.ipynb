{
 "cells": [
  {
   "cell_type": "code",
   "execution_count": 3,
   "id": "003b5d67-1557-44bd-96c3-8bc64a023f1e",
   "metadata": {},
   "outputs": [],
   "source": [
    "from xview2_metrics_v2 import XviewMetrics\n",
    "import os"
   ]
  },
  {
   "cell_type": "code",
   "execution_count": 7,
   "id": "80303499",
   "metadata": {},
   "outputs": [],
   "source": [
    "del XviewMetrics"
   ]
  },
  {
   "cell_type": "code",
   "execution_count": 18,
   "id": "2c389d96",
   "metadata": {},
   "outputs": [
    {
     "data": {
      "text/plain": [
       "['Adiyaman',\n",
       " 'Osmaniye',\n",
       " 'Kahramanmaras',\n",
       " 'Gaziantep',\n",
       " 'Sanliurfa',\n",
       " 'Antakya',\n",
       " 'Islahiye']"
      ]
     },
     "execution_count": 18,
     "metadata": {},
     "output_type": "execute_result"
    }
   ],
   "source": [
    "def list_subdirectories(directory_path):\n",
    "    subdirectories = [d for d in os.listdir(directory_path) if os.path.isdir(os.path.join(directory_path, d))]\n",
    "    return subdirectories\n",
    "\n",
    "base_dir = 'turkey_earthquake/'\n",
    "pred_base_folder = base_dir + 'predict/submission/'\n",
    "city_list = list_subdirectories(pred_base_folder)\n",
    "city_list"
   ]
  },
  {
   "cell_type": "code",
   "execution_count": 3,
   "id": "9f35366d-9b49-488f-adc0-27b03c7eb4a4",
   "metadata": {},
   "outputs": [
    {
     "name": "stderr",
     "output_type": "stream",
     "text": [
      "ERROR: The function received no value for the required argument: pred_dir\n",
      "Usage: ipykernel_launcher.py PRED_DIR TARG_DIR OUT_FP\n",
      "\n",
      "For detailed information on this command, run:\n",
      "  ipykernel_launcher.py --help\n"
     ]
    },
    {
     "ename": "FireExit",
     "evalue": "2",
     "output_type": "error",
     "traceback": [
      "An exception has occurred, use %tb to see the full traceback.\n",
      "\u001b[0;31mFireExit\u001b[0m\u001b[0;31m:\u001b[0m 2\n"
     ]
    },
    {
     "name": "stderr",
     "output_type": "stream",
     "text": [
      "/Users/james/opt/anaconda3/lib/python3.8/site-packages/IPython/core/interactiveshell.py:3445: UserWarning: To exit: use 'exit', 'quit', or Ctrl-D.\n",
      "  warn(\"To exit: use 'exit', 'quit', or Ctrl-D.\", stacklevel=1)\n"
     ]
    }
   ],
   "source": [
    "%%time\n",
    "# Evaluation\n",
    "base_dir = 'turkey_earthquake/'\n",
    "pred_base_folder = base_dir + 'predict/submission/'\n",
    "label_base_folder = base_dir + 'labels/copernicus_earthquake_turkey_tile_mask_02-23_V2/'\n",
    "eval_base_folder = base_dir + 'predict/evaluation/'\n",
    "city = 'Osmaniye'\n",
    "XviewMetrics.compute_score(pred_dir=pred_base_folder + city, targ_dir=label_base_folder + city, out_fp=eval_base_folder+'score_'+city+'.json')"
   ]
  },
  {
   "cell_type": "code",
   "execution_count": 28,
   "id": "c2a28506-a18d-41aa-a3e7-6c8f3883e12c",
   "metadata": {},
   "outputs": [
    {
     "name": "stdout",
     "output_type": "stream",
     "text": [
      "Calculating metrics using 8 cpus...\n",
      "Wrote metrics to turkey_earthquake/predict/overall_score_submission7-2.json\n",
      "CPU times: user 124 ms, sys: 100 ms, total: 224 ms\n",
      "Wall time: 19.6 s\n"
     ]
    }
   ],
   "source": [
    "%%time\n",
    "# run all\n",
    "# XviewMetrics.compute_score(pred_dir='submission', targ_dir='test/targets', out_fp='metrics')\n",
    "XviewMetrics.compute_score(pred_dir='turkey_earthquake/predict/submission7_all_V2/', targ_dir='turkey_earthquake/labels/targets_turkey_earthquake_02-23_V2/', out_fp='turkey_earthquake/predict/overall_score_submission7-2.json')"
   ]
  },
  {
   "cell_type": "code",
   "execution_count": 20,
   "id": "3d4e2e10-3937-4db5-80a7-0e5638a208c5",
   "metadata": {},
   "outputs": [
    {
     "name": "stdout",
     "output_type": "stream",
     "text": [
      "Calculating metrics using 8 cpus...\n"
     ]
    },
    {
     "name": "stdout",
     "output_type": "stream",
     "text": [
      "Wrote metrics to turkey_earthquake/predict/score_Adiyaman_submission7.json\n",
      "CPU times: user 42.7 ms, sys: 104 ms, total: 147 ms\n",
      "Wall time: 2.96 s\n"
     ]
    }
   ],
   "source": [
    "%%time\n",
    "# run by city\n",
    "city = 'Adiyaman'\n",
    "XviewMetrics.compute_score(pred_dir='turkey_earthquake/predict/submission7/'+city, targ_dir='turkey_earthquake/labels/copernicus_earthquake_turkey_tile_mask_02-23_V2/'+city, out_fp='turkey_earthquake/predict/score_'+city+'_submission7.json')"
   ]
  },
  {
   "cell_type": "code",
   "execution_count": 22,
   "id": "7dce2f29",
   "metadata": {},
   "outputs": [
    {
     "name": "stdout",
     "output_type": "stream",
     "text": [
      "Calculating metrics using 8 cpus...\n",
      "Wrote metrics to turkey_earthquake/predict/evaluation-submission7/score_Adiyaman.json\n",
      "Calculating metrics using 8 cpus...\n",
      "Wrote metrics to turkey_earthquake/predict/evaluation-submission7/score_Osmaniye.json\n",
      "Calculating metrics using 8 cpus...\n",
      "Wrote metrics to turkey_earthquake/predict/evaluation-submission7/score_Kahramanmaras.json\n",
      "Calculating metrics using 8 cpus...\n",
      "Wrote metrics to turkey_earthquake/predict/evaluation-submission7/score_Gaziantep.json\n",
      "Calculating metrics using 8 cpus...\n",
      "Wrote metrics to turkey_earthquake/predict/evaluation-submission7/score_Sanliurfa.json\n",
      "Calculating metrics using 8 cpus...\n",
      "Wrote metrics to turkey_earthquake/predict/evaluation-submission7/score_Antakya.json\n",
      "Calculating metrics using 8 cpus...\n",
      "Wrote metrics to turkey_earthquake/predict/evaluation-submission7/score_Islahiye.json\n",
      "CPU times: user 265 ms, sys: 535 ms, total: 800 ms\n",
      "Wall time: 25.4 s\n"
     ]
    }
   ],
   "source": [
    "%%time\n",
    "# run by all cities\n",
    "for city in city_list:\n",
    "    XviewMetrics.compute_score(pred_dir='turkey_earthquake/predict/submission7/'+city, targ_dir='turkey_earthquake/labels/copernicus_earthquake_turkey_tile_mask_02-23_V2/'+city, out_fp='turkey_earthquake/predict/evaluation-submission7/score_'+city+'.json')"
   ]
  },
  {
   "cell_type": "code",
   "execution_count": null,
   "id": "18e8da29",
   "metadata": {},
   "outputs": [],
   "source": []
  }
 ],
 "metadata": {
  "kernelspec": {
   "display_name": "Python 3",
   "language": "python",
   "name": "python3"
  },
  "language_info": {
   "codemirror_mode": {
    "name": "ipython",
    "version": 3
   },
   "file_extension": ".py",
   "mimetype": "text/x-python",
   "name": "python",
   "nbconvert_exporter": "python",
   "pygments_lexer": "ipython3",
   "version": "3.8.8"
  }
 },
 "nbformat": 4,
 "nbformat_minor": 5
}
